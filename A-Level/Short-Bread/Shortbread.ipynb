{
 "cells": [
  {
   "cell_type": "markdown",
   "metadata": {},
   "source": [
    "# Short-Bread"
   ]
  },
  {
   "cell_type": "code",
   "execution_count": null,
   "metadata": {},
   "outputs": [
    {
     "ename": "",
     "evalue": "",
     "output_type": "error",
     "traceback": [
      "\u001b[1;31mRunning cells with '/usr/bin/python3' requires the ipykernel package.\n",
      "\u001b[1;31mRun the following command to install 'ipykernel' into the Python environment. \n",
      "\u001b[1;31mCommand: '/usr/bin/python3 -m pip install ipykernel -U --user --force-reinstall'"
     ]
    }
   ],
   "source": [
    "import networkx\n",
    "import networkx as nx\n",
    "import matplotlib.pyplot as plt\n",
    "f = open(\"words.txt\")\n",
    "lines = f.readlines()\n",
    "f.close()\n",
    "\n",
    "WORDS = [w.strip() for w in lines]\n",
    "\n",
    "ABET = list(map(chr, range(97,123)))\n",
    "VWLS = ['a', 'e', 'i', 'o', 'u', 'y']\n",
    "\n",
    "def is_word(w):\n",
    "  return w in WORDS\n",
    "\n",
    "def get_neighbours(w):\n",
    "  neighbours =[]\n",
    "  for i in range(len(w)):\n",
    "    for l in ABET:\n",
    "      c = w[:i] + l + w[i+1:]\n",
    "      if c != w and is_word(c):\n",
    "        # print(c)\n",
    "        neighbours.append(c)\n",
    "\n",
    "  return neighbours"
   ]
  },
  {
   "cell_type": "markdown",
   "metadata": {},
   "source": [
    "`get_neighbours` returns valid neighbours of a word"
   ]
  },
  {
   "cell_type": "code",
   "execution_count": null,
   "metadata": {},
   "outputs": [],
   "source": [
    "get_neighbours('short')"
   ]
  }
 ],
 "metadata": {
  "kernelspec": {
   "display_name": "Python 3",
   "language": "python",
   "name": "python3"
  },
  "language_info": {
   "name": "python",
   "version": "3.8.2"
  }
 },
 "nbformat": 4,
 "nbformat_minor": 2
}
