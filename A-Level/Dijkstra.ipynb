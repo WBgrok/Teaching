{
 "cells": [
  {
   "cell_type": "markdown",
   "metadata": {},
   "source": [
    "# Dijkstra's Shortest Path Algorithm\n",
    "## Visualised with networkx\n",
    "\n",
    "For this, we'll need packages `netwrokx`, and `matplotlib`\n",
    "\n",
    "This will create a random graph, and assign random weights (1-10) to edges"
   ]
  },
  {
   "cell_type": "code",
   "execution_count": null,
   "metadata": {},
   "outputs": [],
   "source": [
    "from matplotlib import pyplot as plt\n",
    "import networkx as nx\n",
    "from random import randint"
   ]
  },
  {
   "cell_type": "code",
   "execution_count": null,
   "metadata": {},
   "outputs": [],
   "source": [
    "# Build a random graph\n",
    "N_NODES = 12\n",
    "P_CONNECTED = 0.4\n",
    "\n",
    "g = nx.gnp_random_graph(N_NODES, P_CONNECTED)\n",
    "\n",
    "# add random weights\n",
    "for (u, v, w) in g.edges(data = True):\n",
    "  w['weight'] = randint(1,10)\n"
   ]
  },
  {
   "cell_type": "markdown",
   "metadata": {},
   "source": [
    "Display the graph with pyplot:"
   ]
  },
  {
   "cell_type": "code",
   "execution_count": null,
   "metadata": {},
   "outputs": [],
   "source": [
    "pos = nx.spring_layout(g)\n",
    "nx.draw_networkx (g, pos, with_labels=True, font_weight='bold')\n",
    "labels = nx.get_edge_attributes (g, 'weight')\n",
    "nx.draw_networkx_edge_labels (g, pos, edge_labels=labels)\n",
    "\n",
    "plt.show()"
   ]
  },
  {
   "cell_type": "markdown",
   "metadata": {},
   "source": [
    "Networkx has its own representation of [adjacency](https://networkx.org/documentation/stable/reference/classes/generated/networkx.Graph.adjacency.html).\n",
    "\n",
    "This will build a simple adjacency list, a a list of dictionaries."
   ]
  },
  {
   "cell_type": "code",
   "execution_count": null,
   "metadata": {},
   "outputs": [],
   "source": [
    "a_l = [None] * N_NODES\n",
    "for key, val in g.adjacency():\n",
    "  a_l[int(key)] = {k: v['weight'] for k,v in val.items()}\n",
    "\n",
    "\n",
    "print(a_l)"
   ]
  },
  {
   "cell_type": "markdown",
   "metadata": {},
   "source": [
    "We can access weights thus:"
   ]
  },
  {
   "cell_type": "code",
   "execution_count": null,
   "metadata": {},
   "outputs": [],
   "source": [
    "n = 0 \n",
    "\n",
    "print(f\"node {n}'s neighbours are {a_l[n].keys()} \")\n",
    "m = list(a_l[n].keys())[0]\n",
    "print(f\"{n}'s first neighbour is {m}, for a weight of {a_l[n][m]} \")"
   ]
  },
  {
   "cell_type": "markdown",
   "metadata": {},
   "source": [
    "Initialising the algorithm:"
   ]
  },
  {
   "cell_type": "code",
   "execution_count": null,
   "metadata": {},
   "outputs": [],
   "source": [
    "start = 0 # starting node\n",
    "\n",
    "# a list with the current shortest path to the node with this index\n",
    "distances = {n: float('inf') for n in range(N_NODES)}\n",
    "distances[start] = 0\n",
    "# array of visited states: Initially False everywhere, except the start node\n",
    "visited = [False] * N_NODES\n",
    "visited[start] = True\n",
    "\n",
    "# update distances -\n",
    "for n in a_l[start]:\n",
    "  distances[n] =distances[start] + a_l[start][n] if distances[start] + a_l[start][n] < distances[n] else distances[n]\n",
    "\n",
    "# This will draw the graph, with visited nodes in green\n",
    "nx.draw_networkx (g, pos, node_color=['green' if v==True else '#1f78b4' for v in visited], with_labels=True, font_weight='bold')\n",
    "# This will draw weights on the edges:\n",
    "nx.draw_networkx_edge_labels (g, pos, edge_labels=labels)\n",
    "# This will add the current distances on the graph\n",
    "nx.draw_networkx_labels(g, pos={n: [pos[n][0] -0.1, pos[n][1] + 0.05] for n in range(N_NODES)}, labels=distances, font_size=16, font_color=\"grey\")\n",
    "\n",
    "plt.show()"
   ]
  },
  {
   "cell_type": "code",
   "execution_count": null,
   "metadata": {},
   "outputs": [],
   "source": [
    "# this expression gives us the list of non-visited node by distance:\n",
    "print([n for n in sorted(distances, key = lambda x: distances[x]) if not visited[n]])\n",
    "\n",
    "# The core of the algo is them:\n",
    "while not all(visited): #whilst we haven't visited everything\n",
    "  current = [n for n in sorted(distances, key = lambda x: distances[x]) if not visited[n]][0] #next node in priority queue\n",
    "  visited[current] = True # set visited\n",
    "  for n in a_l[current]:\n",
    "    #update distances\n",
    "    distances[n] =distances[current] + a_l[current][n] if distances[current] + a_l[current][n] < distances[n] else distances[n]\n",
    "\n",
    "  # draw\n",
    "  nx.draw_networkx (g, pos, node_color=['green' if v==True else '#1f78b4' for v in visited], with_labels=True, font_weight='bold')\n",
    "  nx.draw_networkx_edge_labels (g, pos, edge_labels=labels)\n",
    "  nx.draw_networkx_labels(g, pos={n: [pos[n][0] -0.1, pos[n][1] + 0.05] for n in range(N_NODES)}, labels=distances, font_size=16, font_color=\"grey\")\n",
    "\n",
    "  plt.show()\n"
   ]
  }
 ],
 "metadata": {
  "kernelspec": {
   "display_name": "Python 3",
   "language": "python",
   "name": "python3"
  },
  "language_info": {
   "codemirror_mode": {
    "name": "ipython",
    "version": 3
   },
   "file_extension": ".py",
   "mimetype": "text/x-python",
   "name": "python",
   "nbconvert_exporter": "python",
   "pygments_lexer": "ipython3",
   "version": "3.11.9"
  }
 },
 "nbformat": 4,
 "nbformat_minor": 2
}
